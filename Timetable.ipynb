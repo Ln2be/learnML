{
 "cells": [
  {
   "cell_type": "markdown",
   "metadata": {},
   "source": [
    "Emploi du temps"
   ]
  },
  {
   "cell_type": "markdown",
   "metadata": {
    "code_folding": []
   },
   "source": [
    "- create time table without a prof that has the same class, the same day.\n",
    "    replaces zeros\n",
    "    shuffle and retain\n",
    "    search bad cases\n",
    "    return zeros\n",
    "\n"
   ]
  },
  {
   "cell_type": "code",
   "execution_count": 131,
   "metadata": {
    "code_folding": [
     3,
     50
    ]
   },
   "outputs": [],
   "source": [
    "import numpy as np\n",
    "\n",
    "def init_class(subjects_table):\n",
    "\n",
    "    # data processing. turn all 0 valued elements to different negative valued.\n",
    "    for i, item in enumerate(array):\n",
    "        if(item==0):\n",
    "            array[i] = -i\n",
    "    \n",
    "    \n",
    "    # hold the good elements. the 3-different-elements, dont want same subject in the same day.\n",
    "    array_hold = []\n",
    "    arraym = array.copy()\n",
    "    for i in range(1000):\n",
    "\n",
    "        # see if there still a possibility to get uniques. It is there if only the most occured element dont exceed the \n",
    "        # the third of the length of the array. if there is not a possiblity then reinit the array and the hold array.\n",
    "        foo, counts = np.unique(arraym, return_counts=True)\n",
    "        max = np.max(counts)\n",
    "        cant_get_uniques = max > (len(arraym) / 3)\n",
    "        if(cant_get_uniques):\n",
    "            arraym = array.copy()\n",
    "            array_hold = []\n",
    "\n",
    "        # choose three different elements. \n",
    "        for j in range(1000):\n",
    "            choice = np.random.choice(arraym, 3, replace=False)\n",
    "            unique = choice.shape[0] == np.unique(choice).shape[0]\n",
    "            if(unique):\n",
    "                array_hold.append(choice)\n",
    "                break\n",
    "\n",
    "        # remove those elements from the list\n",
    "        for e in choice:\n",
    "            arraym.remove(e)\n",
    "\n",
    "        # if the array is empty then stop\n",
    "        if(len(arraym) == 0):\n",
    "            break\n",
    "            \n",
    "    # unprocess data\n",
    "    array_hold = [item for sublist in array_hold for item in sublist]\n",
    "    for i, item in enumerate(array_hold):\n",
    "        if(item<0):\n",
    "            array_hold[i] = 0\n",
    "    \n",
    "    array_hold = np.array(array_hold).reshape(-1, 3)\n",
    "    return np.array(array_hold)\n",
    "\n",
    "def init_days(classes_table):\n",
    "    \n",
    "    days_table = [classes_table[:,i] for i in range(5)]\n",
    "    days_table = np.array(days_table)\n",
    "    \n",
    "    \n",
    "    def day_is_bad(day):\n",
    "        bad = False\n",
    "        for hour, foo in enumerate(day):\n",
    "            hour_table = day[:,hour]\n",
    "            bad = hour_table.shape[0] != np.unique(hour_table).shape[0]\n",
    "            \n",
    "            # see if the repeating aren't zero. Remember zero can teach the same class the same day.\n",
    "            arel, arco = np.unique(hour_table, return_counts=True)\n",
    "            for i, item in enumerate(arel):\n",
    "                if(item == 0):\n",
    "                    if(arco[i]>=2):\n",
    "                        bad = False\n",
    "            \n",
    "            if(bad):\n",
    "                break\n",
    "\n",
    "        return bad\n",
    "    \n",
    "    \n",
    "    for day in days_table:\n",
    "        bad = day_is_bad(day)\n",
    "        if(bad):\n",
    "            for i in range(3):\n",
    "                np.random.shuffle(day[i])\n",
    "                bad = day_is_bad(day)\n",
    "                if(not bad or i == 3):\n",
    "                    break\n",
    "                    \n",
    "    return days_table"
   ]
  },
  {
   "cell_type": "code",
   "execution_count": 139,
   "metadata": {
    "code_folding": [
     7
    ]
   },
   "outputs": [
    {
     "name": "stdout",
     "output_type": "stream",
     "text": [
      "[[0 0 0]\n",
      " [0 3 1]\n",
      " [1 3 0]\n",
      " [0 2 6]\n",
      " [0 2 1]\n",
      " [5 2 4]]\n"
     ]
    }
   ],
   "source": [
    "array = [1, 1, 1, 2, 2, 2, 3, 3, 4, 5, 6, 0, 0, 0, 0, 0, 0, 0]\n",
    "\n",
    "# init class until they have one day off\n",
    "for i in range(10):\n",
    "    stop = False\n",
    "    class_table = init_class(array)\n",
    "    for day in class_table:\n",
    "        if(np.sum(day) == 0):\n",
    "            print(class_table)\n",
    "            stop = True\n",
    "    if(stop):\n",
    "        break"
   ]
  }
 ],
 "metadata": {
  "kernelspec": {
   "display_name": "Python 3",
   "language": "python",
   "name": "python3"
  },
  "language_info": {
   "codemirror_mode": {
    "name": "ipython",
    "version": 3
   },
   "file_extension": ".py",
   "mimetype": "text/x-python",
   "name": "python",
   "nbconvert_exporter": "python",
   "pygments_lexer": "ipython3",
   "version": "3.7.4"
  }
 },
 "nbformat": 4,
 "nbformat_minor": 2
}
